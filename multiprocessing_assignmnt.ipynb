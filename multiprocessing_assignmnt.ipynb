{
 "cells": [
  {
   "cell_type": "raw",
   "id": "1eaac759-5e11-4736-88cc-59919c38d8a2",
   "metadata": {},
   "source": [
    "Q1. What is multiprocessing in python? Why is it useful?\n",
    "\n",
    "Ans = In python multiprocessing is a programming technique that allows to run multiple process simulaneously.This can be useful foe speeding up computationally intesive task or for tasks that nedd to be performed in parallel.\n"
   ]
  },
  {
   "cell_type": "raw",
   "id": "c4a1b214-b09e-4a7c-a4b6-86e7ee137f07",
   "metadata": {},
   "source": [
    "Q2. What are the differences between multiprocessing and multithreading?\n",
    "\n",
    "Ans Multithreading refers to the ability of a processor to execute multiple thread concurrently where each thread runs a process.\n",
    "multiprocessing refers to the ability of a system to run multiple processors in parallel, where each processor can run one or more thread."
   ]
  },
  {
   "cell_type": "raw",
   "id": "25fb6581-a0d4-4480-b22e-11811c6828ad",
   "metadata": {},
   "source": [
    "Q3. Write a python code to create a process using the multiprocessing module.\n",
    "Ans."
   ]
  },
  {
   "cell_type": "code",
   "execution_count": 1,
   "id": "0458b044-5dcf-40e0-bc1a-b05f6d86b538",
   "metadata": {},
   "outputs": [
    {
     "name": "stdout",
     "output_type": "stream",
     "text": [
      "[0, 2, 4, 6, 8, 10, 12, 14, 16, 18]\n"
     ]
    }
   ],
   "source": [
    "import multiprocessing\n",
    "def my_function(a):\n",
    "    return a*2\n",
    "\n",
    "if __name__=='__main__':\n",
    "    pool = multiprocessing.Pool()\n",
    "    result = pool.map(my_function , range(10))\n",
    "    \n",
    "    pool.close()\n",
    "    pool.join()\n",
    "    \n",
    "    print(result)"
   ]
  },
  {
   "cell_type": "raw",
   "id": "37dc54c4-2adf-434e-bb30-bd08a09fb422",
   "metadata": {},
   "source": [
    "Q4. What is a multiprocessing pool in python? Why is it used?\n",
    "\n",
    "Ans = A multiprocessing pool in python is feature by the multiprocessing module that allows to manage a pool of worker processes to execute tasks concurrently"
   ]
  },
  {
   "cell_type": "raw",
   "id": "05a8604c-e915-4197-bebb-fdf168b53604",
   "metadata": {},
   "source": [
    "Q5. How can we create a pool of worker processes in python using the multiprocessing module?\n",
    "Ans = import multiprocessing module ,define worker process, create pool class using worker process,then use mathod map,applyor applu_async to submit task to the pool then close and join the pool."
   ]
  },
  {
   "cell_type": "raw",
   "id": "a447a482-c33b-4e14-839c-013a066b0567",
   "metadata": {},
   "source": [
    "Q6. Write a python program to create 4 processes, each process should print a different number using the\n",
    "multiprocessing module in python."
   ]
  },
  {
   "cell_type": "code",
   "execution_count": 7,
   "id": "5b19b2ae-db67-4fd8-a5c2-a38897cfe27b",
   "metadata": {},
   "outputs": [
    {
     "name": "stdout",
     "output_type": "stream",
     "text": [
      "result: [0, 1, 4, 9, 16, 25, 36, 49, 64, 81]\n",
      "apply_async 100\n"
     ]
    }
   ],
   "source": [
    "import multiprocessing\n",
    "def worker_function(x):\n",
    "    return x * x\n",
    "if __name__ == '__main__':\n",
    "    with multiprocessing.Pool(processes=4)as pool:\n",
    "        results = pool.map(worker_function,range(10))\n",
    "        async_result = pool.apply_async(worker_function,(10,))\n",
    "        \n",
    "        result = async_result.get()\n",
    "        \n",
    "    print(\"result:\",results)\n",
    "    print(\"apply_async\", result)"
   ]
  },
  {
   "cell_type": "code",
   "execution_count": null,
   "id": "4b012259-cccf-4ee4-a8e8-9c67f2048344",
   "metadata": {},
   "outputs": [],
   "source": []
  }
 ],
 "metadata": {
  "kernelspec": {
   "display_name": "Python 3 (ipykernel)",
   "language": "python",
   "name": "python3"
  },
  "language_info": {
   "codemirror_mode": {
    "name": "ipython",
    "version": 3
   },
   "file_extension": ".py",
   "mimetype": "text/x-python",
   "name": "python",
   "nbconvert_exporter": "python",
   "pygments_lexer": "ipython3",
   "version": "3.10.8"
  }
 },
 "nbformat": 4,
 "nbformat_minor": 5
}
